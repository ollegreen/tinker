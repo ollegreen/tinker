{
 "cells": [
  {
   "cell_type": "markdown",
   "metadata": {},
   "source": [
    "# Big O\n",
    "Space & Time complexity."
   ]
  },
  {
   "cell_type": "code",
   "execution_count": null,
   "metadata": {},
   "outputs": [],
   "source": [
    "# What does space mean?\n",
    "# Memory = how big it is/becomes in the worst case scenario\n"
   ]
  },
  {
   "cell_type": "code",
   "execution_count": null,
   "metadata": {},
   "outputs": [],
   "source": [
    "# What does Time mean?\n",
    "# How long it would take to do the operation(s), often measured as in the worst case scenario."
   ]
  },
  {
   "cell_type": "code",
   "execution_count": 4,
   "metadata": {},
   "outputs": [
    {
     "data": {
      "text/plain": [
       "400000000"
      ]
     },
     "execution_count": 4,
     "metadata": {},
     "output_type": "execute_result"
    }
   ],
   "source": [
    "# how do I determine the space and time complexity of a random function, such as:\n",
    "\n",
    "def foo(input : int) -> int:\n",
    "    output = input * 2\n",
    "    return output\n",
    "\n",
    "# time complexity is determined by the number of operations and the size of the input.\n",
    "\n",
    "# For example above, increasing input:\n",
    "foo(2)\n",
    "# as we go through the code, the number will simply be multiplied, doesn't matter how the number grows.\n",
    "foo(200000000)\n",
    "# Since the operation is simply to multiply the input by 2 = single operation on a single number = O(1)"
   ]
  },
  {
   "cell_type": "markdown",
   "metadata": {},
   "source": [
    "In short for this function:\n",
    "* Time Complexity = O(1) because it has a single operation / number of operations is constant.\n",
    "* Space Complexity = O(1) because the space needed to perform this algorithm (storing an integer) is constant."
   ]
  },
  {
   "cell_type": "code",
   "execution_count": null,
   "metadata": {},
   "outputs": [],
   "source": [
    "# why is this important when building out large scale applications / ML:\n",
    "# because you can write two functions that does the same thing, but one can be more efficient and take up less space\n",
    "# = better in production (assuming readability is still good)."
   ]
  },
  {
   "cell_type": "code",
   "execution_count": 5,
   "metadata": {},
   "outputs": [],
   "source": [
    "olles_dict = {}"
   ]
  },
  {
   "cell_type": "code",
   "execution_count": 8,
   "metadata": {},
   "outputs": [],
   "source": [
    "def foo_2(text : str) -> str:\n",
    "    return text + \" and that's how the cookie crumbles\""
   ]
  },
  {
   "cell_type": "code",
   "execution_count": null,
   "metadata": {},
   "outputs": [
    {
     "data": {
      "text/plain": [
       "\"hello twitch and that's how the cookie crumbles\""
      ]
     },
     "metadata": {},
     "output_type": "display_data"
    }
   ],
   "source": [
    "foo_2('hello twitch')"
   ]
  },
  {
   "cell_type": "code",
   "execution_count": 13,
   "metadata": {},
   "outputs": [],
   "source": [
    "def foo_3(text : str) -> str:\n",
    "    for i in text:\n",
    "        print(i + \" and that's how the cookie crumbles\")"
   ]
  },
  {
   "cell_type": "code",
   "execution_count": 14,
   "metadata": {},
   "outputs": [
    {
     "name": "stdout",
     "output_type": "stream",
     "text": [
      "h and that's how the cookie crumbles\n",
      "e and that's how the cookie crumbles\n",
      "l and that's how the cookie crumbles\n",
      "l and that's how the cookie crumbles\n",
      "o and that's how the cookie crumbles\n",
      "  and that's how the cookie crumbles\n",
      "t and that's how the cookie crumbles\n",
      "w and that's how the cookie crumbles\n",
      "i and that's how the cookie crumbles\n",
      "t and that's how the cookie crumbles\n",
      "c and that's how the cookie crumbles\n",
      "h and that's how the cookie crumbles\n"
     ]
    }
   ],
   "source": [
    "foo_3('hello twitch')"
   ]
  },
  {
   "cell_type": "code",
   "execution_count": 17,
   "metadata": {},
   "outputs": [],
   "source": [
    "def foo_4(text : list) -> str:\n",
    "    for i in text:\n",
    "        print(i + \" and that's how the cookie crumbles\")"
   ]
  },
  {
   "cell_type": "code",
   "execution_count": 18,
   "metadata": {},
   "outputs": [
    {
     "name": "stdout",
     "output_type": "stream",
     "text": [
      "hey and that's how the cookie crumbles\n",
      "twitch and that's how the cookie crumbles\n"
     ]
    }
   ],
   "source": [
    "foo_4(['hey','twitch'])"
   ]
  },
  {
   "cell_type": "markdown",
   "metadata": {},
   "source": [
    "Space = Input storage + auxiliary space\n",
    "\n",
    "aux space = the memry that is used in addition to the input data"
   ]
  },
  {
   "cell_type": "code",
   "execution_count": 20,
   "metadata": {},
   "outputs": [
    {
     "name": "stdout",
     "output_type": "stream",
     "text": [
      "1 4\n",
      "1 5\n",
      "1 6\n",
      "2 4\n",
      "2 5\n",
      "2 6\n",
      "3 4\n",
      "3 5\n",
      "3 6\n"
     ]
    }
   ],
   "source": [
    "for i in [1,2,3]:\n",
    "    for j in [4,5,6]:\n",
    "        print(i,j)"
   ]
  },
  {
   "cell_type": "markdown",
   "metadata": {},
   "source": [
    "_____\n",
    "\n",
    "Easy:\n",
    "1. O(1)\n",
    "2. O(1)\n",
    "3. O(n)\n",
    "4. O(1)\n",
    "\n",
    "Medium:\n",
    "5. O(n^2)\n",
    "6. O(n^2) I think -> why? Because since both the input is O(n) and the newly created one is also O(n) -> it would be O(n) + O(n) = O(2n) but since in this case we drop constant factor, and is therefore simplified to O(n).\n",
    "7. N/A\n",
    "8. N/A"
   ]
  },
  {
   "cell_type": "code",
   "execution_count": null,
   "metadata": {},
   "outputs": [],
   "source": []
  },
  {
   "cell_type": "markdown",
   "metadata": {},
   "source": []
  }
 ],
 "metadata": {
  "kernelspec": {
   "display_name": "lmx",
   "language": "python",
   "name": "python3"
  },
  "language_info": {
   "codemirror_mode": {
    "name": "ipython",
    "version": 3
   },
   "file_extension": ".py",
   "mimetype": "text/x-python",
   "name": "python",
   "nbconvert_exporter": "python",
   "pygments_lexer": "ipython3",
   "version": "3.11.7"
  }
 },
 "nbformat": 4,
 "nbformat_minor": 2
}
