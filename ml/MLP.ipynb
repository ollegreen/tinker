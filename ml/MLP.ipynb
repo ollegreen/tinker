{
 "cells": [
  {
   "cell_type": "code",
   "execution_count": 5,
   "metadata": {},
   "outputs": [],
   "source": [
    "import torch\n",
    "# from torch import nn\n",
    "import torch.nn as nn\n",
    "import numpy as np\n",
    "import pandas as pd"
   ]
  },
  {
   "cell_type": "code",
   "execution_count": 17,
   "metadata": {},
   "outputs": [],
   "source": [
    "import torch.nn.functional as F"
   ]
  },
  {
   "cell_type": "markdown",
   "metadata": {},
   "source": [
    "# What do you need:"
   ]
  },
  {
   "cell_type": "markdown",
   "metadata": {},
   "source": [
    "Problem: feed in basic data, such as 10, 20, 30, 60, 70, 80, 160, where it should hopefully pick up the trend."
   ]
  },
  {
   "cell_type": "code",
   "execution_count": null,
   "metadata": {},
   "outputs": [],
   "source": [
    "# Define column names related to the relationship\n",
    "column_names_relationship = ['MatreaSmile', 'SharedLaughs',\n",
    "                             'DeepConversations', 'SupportMoments',\n",
    "                             'AdventuresTogether']\n",
    "\n",
    "# Create a DataFrame with 10 rows of data\n",
    "# Values for highly correlated columns will be close to each other, and less correlated ones will have more variance\n",
    "data_relationship = {\n",
    "    'MatreaSmile': np.random.uniform(0.8, 1, 10),  # High correlation with love\n",
    "    'SharedLaughs': np.random.uniform(0.7, 1, 10), # High correlation with love\n",
    "    'DeepConversations': np.random.uniform(0.5, 0.9, 10), # Moderate correlation\n",
    "    'SupportMoments': np.random.uniform(0.3, 0.8, 10), # Lower correlation\n",
    "    'AdventuresTogether': np.random.uniform(0.1, 0.6, 10) # Lower correlation\n",
    "}\n",
    "\n",
    "# Create DataFrame\n",
    "relationship_df = pd.DataFrame(data_relationship, columns=column_names_relationship)\n",
    "relationship_df"
   ]
  },
  {
   "cell_type": "code",
   "execution_count": 35,
   "metadata": {},
   "outputs": [],
   "source": [
    "# # Dummy data for demonstration purposes\n",
    "train = torch.randn(10, 3)  # 10 samples, 3 features each\n",
    "test = torch.randn(10, 3)  # 10 samples, 1 target each"
   ]
  },
  {
   "cell_type": "code",
   "execution_count": 36,
   "metadata": {},
   "outputs": [
    {
     "data": {
      "text/plain": [
       "tensor([[ 0.2051, -0.2337,  0.0834],\n",
       "        [ 1.1399, -0.9452, -0.2318],\n",
       "        [ 0.7968,  1.5227,  0.6740],\n",
       "        [-0.7240,  0.4772, -1.0388],\n",
       "        [ 1.1910,  1.4161, -1.2426],\n",
       "        [-1.8536, -1.3318,  0.1769],\n",
       "        [-1.4113,  0.9683,  0.7122],\n",
       "        [ 0.5078,  0.2158,  0.0042],\n",
       "        [ 1.3734,  0.1940,  0.0247],\n",
       "        [ 0.1320, -1.1191,  1.6676]])"
      ]
     },
     "execution_count": 36,
     "metadata": {},
     "output_type": "execute_result"
    }
   ],
   "source": [
    "train"
   ]
  },
  {
   "cell_type": "code",
   "execution_count": 14,
   "metadata": {},
   "outputs": [],
   "source": [
    "data = [[10, 20, 30], [60, 70, 80], [160, 170, 180], [360, 370, 380]]\n",
    "len(data)\n",
    "train = data[:3]\n",
    "test= data[3:]"
   ]
  },
  {
   "cell_type": "code",
   "execution_count": 15,
   "metadata": {},
   "outputs": [],
   "source": [
    "train = torch.tensor(train)\n",
    "test = torch.tensor(test)"
   ]
  },
  {
   "cell_type": "code",
   "execution_count": 16,
   "metadata": {},
   "outputs": [
    {
     "data": {
      "text/plain": [
       "tensor([[ 10,  20,  30],\n",
       "        [ 60,  70,  80],\n",
       "        [160, 170, 180]])"
      ]
     },
     "execution_count": 16,
     "metadata": {},
     "output_type": "execute_result"
    }
   ],
   "source": [
    "train"
   ]
  },
  {
   "cell_type": "markdown",
   "metadata": {},
   "source": [
    "______\n",
    "For the MLP, I need:\n",
    "1. linear layers\n",
    "2. Bias\n",
    "3. activation function\n",
    "4. forward pass\n",
    "5. loss function\n",
    "6. backprop"
   ]
  },
  {
   "cell_type": "code",
   "execution_count": 30,
   "metadata": {},
   "outputs": [],
   "source": [
    "class MLP(nn.Module):\n",
    "    def __init__(self):\n",
    "        super().__init__()\n",
    "        self.layers = nn.Sequential(nn.Linear(3,3,bias=True),\n",
    "                                    nn.ReLU(),\n",
    "                                    nn.Linear(3,3,bias=True),\n",
    "                                    nn.ReLU(),\n",
    "                                    nn.Linear(3,3, bias=True),\n",
    "                                    nn.Sigmoid()\n",
    "                                    )\n",
    "    def forward(self, x):\n",
    "        return self.layers(x)\n"
   ]
  },
  {
   "cell_type": "code",
   "execution_count": 31,
   "metadata": {},
   "outputs": [],
   "source": [
    "model = MLP()"
   ]
  },
  {
   "cell_type": "code",
   "execution_count": 32,
   "metadata": {},
   "outputs": [],
   "source": [
    "loss_func = nn.MSELoss()\n",
    "optimiser = torch.optim.SGD(model.parameters(), lr=0.01)"
   ]
  },
  {
   "cell_type": "code",
   "execution_count": 33,
   "metadata": {},
   "outputs": [],
   "source": [
    "num_epochs = 100"
   ]
  },
  {
   "cell_type": "code",
   "execution_count": 34,
   "metadata": {},
   "outputs": [
    {
     "name": "stdout",
     "output_type": "stream",
     "text": [
      "Epoch [10/100], Loss: 1.1508\n",
      "Epoch [20/100], Loss: 1.1481\n",
      "Epoch [30/100], Loss: 1.1454\n",
      "Epoch [40/100], Loss: 1.1427\n",
      "Epoch [50/100], Loss: 1.1401\n",
      "Epoch [60/100], Loss: 1.1375\n",
      "Epoch [70/100], Loss: 1.1349\n",
      "Epoch [80/100], Loss: 1.1322\n",
      "Epoch [90/100], Loss: 1.1297\n",
      "Epoch [100/100], Loss: 1.1271\n"
     ]
    },
    {
     "name": "stderr",
     "output_type": "stream",
     "text": [
      "/Users/olles/miniconda3/envs/lmx/lib/python3.11/site-packages/torch/nn/modules/loss.py:535: UserWarning: Using a target size (torch.Size([10, 1])) that is different to the input size (torch.Size([10, 3])). This will likely lead to incorrect results due to broadcasting. Please ensure they have the same size.\n",
      "  return F.mse_loss(input, target, reduction=self.reduction)\n"
     ]
    }
   ],
   "source": [
    "for epoch in range(num_epochs):\n",
    "    optimiser.zero_grad()\n",
    "    outputs = model(train)\n",
    "    loss = loss_func(outputs, test)\n",
    "    loss.backward()\n",
    "    optimiser.step()\n",
    "\n",
    "    if (epoch+1) % 10 == 0:\n",
    "        print(f'Epoch [{epoch+1}/{num_epochs}], Loss: {loss.item():.4f}')"
   ]
  },
  {
   "cell_type": "code",
   "execution_count": null,
   "metadata": {},
   "outputs": [],
   "source": []
  }
 ],
 "metadata": {
  "kernelspec": {
   "display_name": "lmx",
   "language": "python",
   "name": "python3"
  },
  "language_info": {
   "codemirror_mode": {
    "name": "ipython",
    "version": 3
   },
   "file_extension": ".py",
   "mimetype": "text/x-python",
   "name": "python",
   "nbconvert_exporter": "python",
   "pygments_lexer": "ipython3",
   "version": "3.11.7"
  }
 },
 "nbformat": 4,
 "nbformat_minor": 2
}
