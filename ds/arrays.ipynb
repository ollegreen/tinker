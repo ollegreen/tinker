{
 "cells": [
  {
   "cell_type": "markdown",
   "metadata": {},
   "source": [
    "# Dynamic Array\n",
    "## Concatenate two arrays"
   ]
  },
  {
   "cell_type": "code",
   "execution_count": 15,
   "metadata": {},
   "outputs": [],
   "source": [
    "class DynamicArray:\n",
    "    \n",
    "    def __init__(self, capacity: int):\n",
    "        pass\n",
    "\n",
    "    def get(self, i: int) -> int:\n",
    "        pass\n",
    "\n",
    "\n",
    "    def set(self, i: int, n: int) -> None:\n",
    "        pass\n",
    "\n",
    "\n",
    "    def pushback(self, n: int) -> None:\n",
    "        pass\n",
    "\n",
    "\n",
    "    def popback(self) -> int:\n",
    "        pass\n",
    " \n",
    "\n",
    "    def resize(self) -> None:\n",
    "        pass\n",
    "\n",
    "\n",
    "    def getSize(self) -> int:\n",
    "        pass\n",
    "        \n",
    "    \n",
    "    def getCapacity(self) -> int:\n",
    "        pass\n"
   ]
  },
  {
   "cell_type": "code",
   "execution_count": 16,
   "metadata": {},
   "outputs": [
    {
     "data": {
      "text/plain": [
       "__main__.DynamicArray"
      ]
     },
     "execution_count": 16,
     "metadata": {},
     "output_type": "execute_result"
    }
   ],
   "source": [
    "DynamicArray"
   ]
  },
  {
   "cell_type": "markdown",
   "metadata": {},
   "source": []
  },
  {
   "cell_type": "code",
   "execution_count": null,
   "metadata": {},
   "outputs": [],
   "source": []
  },
  {
   "cell_type": "code",
   "execution_count": 1,
   "metadata": {},
   "outputs": [],
   "source": [
    "from typing import List"
   ]
  },
  {
   "cell_type": "code",
   "execution_count": 13,
   "metadata": {},
   "outputs": [],
   "source": [
    "def getConcatenation(nums: List[int]) -> List[int]:\n",
    "    the_list = []\n",
    "    for i in nums:\n",
    "        the_list.append(i)\n",
    "    for i in nums:\n",
    "        the_list.append(i)\n",
    "\n",
    "    return the_list"
   ]
  },
  {
   "cell_type": "code",
   "execution_count": 14,
   "metadata": {},
   "outputs": [
    {
     "data": {
      "text/plain": [
       "[1, 2, 1, 1, 2, 1]"
      ]
     },
     "execution_count": 14,
     "metadata": {},
     "output_type": "execute_result"
    }
   ],
   "source": [
    "nums = [1,2,1]\n",
    "getConcatenation(nums)"
   ]
  },
  {
   "cell_type": "code",
   "execution_count": null,
   "metadata": {},
   "outputs": [],
   "source": []
  }
 ],
 "metadata": {
  "kernelspec": {
   "display_name": "lmx",
   "language": "python",
   "name": "python3"
  },
  "language_info": {
   "codemirror_mode": {
    "name": "ipython",
    "version": 3
   },
   "file_extension": ".py",
   "mimetype": "text/x-python",
   "name": "python",
   "nbconvert_exporter": "python",
   "pygments_lexer": "ipython3",
   "version": "3.11.7"
  }
 },
 "nbformat": 4,
 "nbformat_minor": 2
}
