{
 "cells": [
  {
   "cell_type": "markdown",
   "metadata": {},
   "source": [
    "# To-dos\n",
    "- How they work\n",
    "- Time complexity\n",
    "- How to code them\n",
    "- How to use them (leetcode)"
   ]
  },
  {
   "cell_type": "code",
   "execution_count": 1,
   "metadata": {},
   "outputs": [],
   "source": [
    "# how they work\n",
    "olles_dict = {}"
   ]
  },
  {
   "cell_type": "code",
   "execution_count": 2,
   "metadata": {},
   "outputs": [
    {
     "data": {
      "text/plain": [
       "{}"
      ]
     },
     "execution_count": 2,
     "metadata": {},
     "output_type": "execute_result"
    }
   ],
   "source": [
    "olles_dict"
   ]
  },
  {
   "cell_type": "code",
   "execution_count": 3,
   "metadata": {},
   "outputs": [],
   "source": [
    "# dictonary of the number of pastries I have\n",
    "olles_dict['char siu bao'] = 0\n",
    "olles_dict['bolo bao'] = 0"
   ]
  },
  {
   "cell_type": "code",
   "execution_count": 4,
   "metadata": {},
   "outputs": [
    {
     "data": {
      "text/plain": [
       "{'char siu bao': 0, 'bolo bao': 0}"
      ]
     },
     "execution_count": 4,
     "metadata": {},
     "output_type": "execute_result"
    }
   ],
   "source": [
    "olles_dict"
   ]
  },
  {
   "cell_type": "code",
   "execution_count": 5,
   "metadata": {},
   "outputs": [],
   "source": [
    "# olle gets a bolo bao:\n",
    "olles_dict['bolo bao'] = 1"
   ]
  },
  {
   "cell_type": "code",
   "execution_count": 6,
   "metadata": {},
   "outputs": [
    {
     "data": {
      "text/plain": [
       "{'char siu bao': 0, 'bolo bao': 1}"
      ]
     },
     "execution_count": 6,
     "metadata": {},
     "output_type": "execute_result"
    }
   ],
   "source": [
    "olles_dict"
   ]
  },
  {
   "cell_type": "code",
   "execution_count": 7,
   "metadata": {},
   "outputs": [],
   "source": [
    "olles_dict['fruits'] = ['banana','melon']"
   ]
  },
  {
   "cell_type": "code",
   "execution_count": 8,
   "metadata": {},
   "outputs": [
    {
     "data": {
      "text/plain": [
       "{'char siu bao': 0, 'bolo bao': 1, 'fruits': ['banana', 'melon']}"
      ]
     },
     "execution_count": 8,
     "metadata": {},
     "output_type": "execute_result"
    }
   ],
   "source": [
    "olles_dict"
   ]
  },
  {
   "cell_type": "code",
   "execution_count": 79,
   "metadata": {},
   "outputs": [
    {
     "data": {
      "text/plain": [
       "1"
      ]
     },
     "execution_count": 79,
     "metadata": {},
     "output_type": "execute_result"
    }
   ],
   "source": [
    "# our_dict[the_required_number_were_looking_for], i\n",
    "olles_dict['bolo bao']"
   ]
  },
  {
   "cell_type": "markdown",
   "metadata": {},
   "source": [
    "in production we have it storing a dictionary of both the pandas dataframe and additional context from the model. why? well this shows it's a pretty neat data structure to store multiple types of data."
   ]
  },
  {
   "cell_type": "code",
   "execution_count": 9,
   "metadata": {},
   "outputs": [],
   "source": [
    "from typing import List"
   ]
  },
  {
   "cell_type": "code",
   "execution_count": 36,
   "metadata": {},
   "outputs": [],
   "source": [
    "def twoSum(nums: List[int], target: int) -> List[int]:\n",
    "    num_to_index = {}\n",
    "    for i, num in enumerate(nums): # i is the index, num is the value we're retrieving\n",
    "        required_num = target - num # here we're basically taking the target 9 - 2, stored both the value + index in the dict.\n",
    "        print(num_to_index)\n",
    "        if required_num in num_to_index: # if we've found the solution:\n",
    "            return [num_to_index[required_num], i]  #  return the indexes of the two values\n",
    "        num_to_index[num] = i # otherwise: just store the value with it's corresponding index in the dictionary.\n",
    "    print(num_to_index)"
   ]
  },
  {
   "cell_type": "code",
   "execution_count": 41,
   "metadata": {},
   "outputs": [
    {
     "name": "stdout",
     "output_type": "stream",
     "text": [
      "{}\n",
      "{2: 0}\n",
      "{2: 0, 7: 1}\n",
      "{2: 0, 7: 1, 11: 2}\n"
     ]
    },
    {
     "data": {
      "text/plain": [
       "[2, 3]"
      ]
     },
     "execution_count": 41,
     "metadata": {},
     "output_type": "execute_result"
    }
   ],
   "source": [
    "nums = [2, 7, 11, 15]\n",
    "target = 26\n",
    "twoSum(nums, target)"
   ]
  },
  {
   "cell_type": "code",
   "execution_count": 74,
   "metadata": {},
   "outputs": [],
   "source": [
    "import logging\n",
    "logging.basicConfig(level=logging.INFO, format='%(asctime)s - %(levelname)s - %(message)s')"
   ]
  },
  {
   "cell_type": "code",
   "execution_count": 75,
   "metadata": {},
   "outputs": [],
   "source": [
    "def twoSum(nums,target):\n",
    "    our_dict = {}\n",
    "    for i, num in enumerate(nums): # this is taking the index and the value in the list\n",
    "        the_required_number_were_looking_for = target - num # this is the number in the dict we're looking for! :D :D\n",
    "        if the_required_number_were_looking_for in our_dict:\n",
    "            # logging.info(target)\n",
    "            # logging.info(num)\n",
    "            # logging.info(the_required_number_were_looking_for)\n",
    "            # logging.info(our_dict)\n",
    "            # logging.info(our_dict[the_required_number_were_looking_for])\n",
    "            return [our_dict[the_required_number_were_looking_for], i]\n",
    "        our_dict[num] = i"
   ]
  },
  {
   "cell_type": "code",
   "execution_count": 76,
   "metadata": {},
   "outputs": [
    {
     "name": "stderr",
     "output_type": "stream",
     "text": [
      "2024-06-09 14:09:06,941 - INFO - 26\n",
      "2024-06-09 14:09:06,942 - INFO - 15\n",
      "2024-06-09 14:09:06,942 - INFO - 11\n",
      "2024-06-09 14:09:06,942 - INFO - {2: 0, 7: 1, 11: 2}\n",
      "2024-06-09 14:09:06,943 - INFO - 2\n"
     ]
    },
    {
     "data": {
      "text/plain": [
       "[2, 3]"
      ]
     },
     "execution_count": 76,
     "metadata": {},
     "output_type": "execute_result"
    }
   ],
   "source": [
    "nums = [2, 7, 11, 15]\n",
    "target = 26\n",
    "twoSum(nums, target)"
   ]
  },
  {
   "cell_type": "code",
   "execution_count": 80,
   "metadata": {},
   "outputs": [],
   "source": [
    "def twoSum(nums,target):\n",
    "    twitch_dict = {}\n",
    "    for i, num in enumerate(nums):\n",
    "        value_were_looking_for = target - num\n",
    "        if value_were_looking_for in twitch_dict:\n",
    "            return [twitch_dict[value_were_looking_for], i]\n",
    "        twitch_dict[num] = i"
   ]
  },
  {
   "cell_type": "code",
   "execution_count": 81,
   "metadata": {},
   "outputs": [
    {
     "data": {
      "text/plain": [
       "[2, 3]"
      ]
     },
     "execution_count": 81,
     "metadata": {},
     "output_type": "execute_result"
    }
   ],
   "source": [
    "nums = [2, 7, 11, 15]\n",
    "target = 26\n",
    "twoSum(nums, target)"
   ]
  },
  {
   "cell_type": "markdown",
   "metadata": {},
   "source": [
    "# what's the space time complexity:\n",
    "\n",
    "### Time\n",
    "O(n) because it has a for loop\n",
    "\n",
    "### Space\n",
    "O(n) because it has the bottom part which is adding value as long as the list of targets in a worst case scenario.\n"
   ]
  },
  {
   "cell_type": "code",
   "execution_count": null,
   "metadata": {},
   "outputs": [],
   "source": []
  },
  {
   "cell_type": "markdown",
   "metadata": {},
   "source": [
    "# repeat twosum:"
   ]
  },
  {
   "cell_type": "code",
   "execution_count": null,
   "metadata": {},
   "outputs": [],
   "source": []
  },
  {
   "cell_type": "code",
   "execution_count": 95,
   "metadata": {},
   "outputs": [],
   "source": [
    "def twoSum(nums: list, target: int) -> list:\n",
    "\n",
    "    table = {}\n",
    "\n",
    "    for index, num in enumerate(nums):\n",
    "        target_value = target - num\n",
    "        if target_value in table:\n",
    "            return [table[target_value], index] # return the index of the two values in the list that we found\n",
    "        table[num] = index"
   ]
  },
  {
   "cell_type": "code",
   "execution_count": null,
   "metadata": {},
   "outputs": [],
   "source": []
  },
  {
   "cell_type": "code",
   "execution_count": null,
   "metadata": {},
   "outputs": [],
   "source": []
  },
  {
   "cell_type": "code",
   "execution_count": null,
   "metadata": {},
   "outputs": [],
   "source": []
  },
  {
   "cell_type": "code",
   "execution_count": null,
   "metadata": {},
   "outputs": [],
   "source": []
  },
  {
   "cell_type": "code",
   "execution_count": null,
   "metadata": {},
   "outputs": [],
   "source": []
  },
  {
   "cell_type": "code",
   "execution_count": null,
   "metadata": {},
   "outputs": [],
   "source": []
  },
  {
   "cell_type": "code",
   "execution_count": null,
   "metadata": {},
   "outputs": [],
   "source": []
  },
  {
   "cell_type": "code",
   "execution_count": null,
   "metadata": {},
   "outputs": [],
   "source": []
  },
  {
   "cell_type": "code",
   "execution_count": 97,
   "metadata": {},
   "outputs": [],
   "source": [
    "def twoSum(nums, target):\n",
    "\n",
    "    phonebook = {}\n",
    "\n",
    "    for index, number in enumerate(nums):\n",
    "        the_number_we_are_looking_for = target - number\n",
    "        if the_number_we_are_looking_for in phonebook:\n",
    "            return [phonebook[the_number_we_are_looking_for], index]\n",
    "        phonebook[number] = index\n",
    "        print(phonebook)\n",
    "        \n"
   ]
  },
  {
   "cell_type": "code",
   "execution_count": 98,
   "metadata": {},
   "outputs": [
    {
     "name": "stdout",
     "output_type": "stream",
     "text": [
      "{2: 0}\n",
      "{2: 0, 7: 1}\n",
      "{2: 0, 7: 1, 11: 2}\n"
     ]
    },
    {
     "data": {
      "text/plain": [
       "[2, 3]"
      ]
     },
     "execution_count": 98,
     "metadata": {},
     "output_type": "execute_result"
    }
   ],
   "source": [
    "nums = [2, 7, 11, 15]\n",
    "target = 26\n",
    "twoSum(nums, target)"
   ]
  },
  {
   "cell_type": "code",
   "execution_count": 87,
   "metadata": {},
   "outputs": [
    {
     "data": {
      "text/plain": [
       "[2, 7, 11, 15]"
      ]
     },
     "execution_count": 87,
     "metadata": {},
     "output_type": "execute_result"
    }
   ],
   "source": [
    "nums"
   ]
  },
  {
   "cell_type": "code",
   "execution_count": null,
   "metadata": {},
   "outputs": [],
   "source": []
  },
  {
   "cell_type": "code",
   "execution_count": null,
   "metadata": {},
   "outputs": [],
   "source": []
  },
  {
   "cell_type": "code",
   "execution_count": null,
   "metadata": {},
   "outputs": [],
   "source": []
  },
  {
   "cell_type": "code",
   "execution_count": null,
   "metadata": {},
   "outputs": [],
   "source": []
  },
  {
   "cell_type": "code",
   "execution_count": null,
   "metadata": {},
   "outputs": [],
   "source": []
  },
  {
   "cell_type": "code",
   "execution_count": null,
   "metadata": {},
   "outputs": [],
   "source": []
  },
  {
   "cell_type": "markdown",
   "metadata": {},
   "source": [
    "# Anagram"
   ]
  },
  {
   "cell_type": "markdown",
   "metadata": {},
   "source": [
    "**what is an anagram?** = An anagram is a string that contains the exact same characters as another string, but the order of the characters can be different."
   ]
  },
  {
   "cell_type": "markdown",
   "metadata": {},
   "source": []
  },
  {
   "cell_type": "markdown",
   "metadata": {},
   "source": [
    "what is the space an time complexity:\n",
    "\n",
    "space:\n",
    "* O(n + m)\n",
    "\n",
    "time:\n",
    "* O(n + m)"
   ]
  },
  {
   "cell_type": "code",
   "execution_count": 135,
   "metadata": {},
   "outputs": [],
   "source": [
    "def anagram(t:str, s:str) -> bool:\n",
    "    # make all letters small\n",
    "    t = t.lower()\n",
    "    s = s.lower()\n",
    "\n",
    "    phonebook_t = {}\n",
    "\n",
    "    # add the number of times a letter occurs in the dictionary.\n",
    "    for letter in t:\n",
    "        if letter in phonebook_t:\n",
    "            phonebook_t[letter] += 1\n",
    "        else:\n",
    "            phonebook_t[letter] = 1\n",
    "\n",
    "    \n",
    "    phonebook_s = {}\n",
    "\n",
    "    for letter in s:\n",
    "        if letter in phonebook_s:\n",
    "            phonebook_s[letter] += 1\n",
    "        else:\n",
    "            phonebook_s[letter] = 1\n",
    "\n",
    "    # return:\n",
    "    if phonebook_t == phonebook_s:\n",
    "        return True\n",
    "    else:\n",
    "        return False\n",
    "    # return phonebook_t, phonebook_s\n",
    "\n",
    "    # check that it matches the 2nd word:\n",
    "\n",
    "\n",
    "\n",
    "    # edge cases: O vs o should be the same"
   ]
  },
  {
   "cell_type": "code",
   "execution_count": 157,
   "metadata": {},
   "outputs": [],
   "source": [
    "def anagram(t:str, s:str) -> bool:\n",
    "\n",
    "    # can't be anagrams with different number of letters\n",
    "    if len(t) != len(s):\n",
    "        return False\n",
    "\n",
    "    letter_count = {}\n",
    "\n",
    "    for index in range(len(t)):\n",
    "        letter_count[t[index]] = letter_count.get(t[index], 0) + 1\n",
    "        letter_count[s[index]] = letter_count.get(s[index], 0) - 1\n",
    "\n",
    "    print(letter_count)\n",
    "\n",
    "    for count in letter_count.values():\n",
    "        if count != 0:\n",
    "            return False\n",
    "\n",
    "    return True"
   ]
  },
  {
   "cell_type": "markdown",
   "metadata": {},
   "source": [
    "time:\n",
    "1. linear\n",
    "2. O(n)\n",
    "3. O(n)\n",
    "\n",
    "space:\n",
    "1. O(1)"
   ]
  },
  {
   "cell_type": "code",
   "execution_count": null,
   "metadata": {},
   "outputs": [],
   "source": [
    "def anagram(t,s):\n",
    "    \n",
    "    pass\n"
   ]
  },
  {
   "cell_type": "code",
   "execution_count": 158,
   "metadata": {},
   "outputs": [
    {
     "name": "stdout",
     "output_type": "stream",
     "text": [
      "{'o': 0, 'l': 0, 'e': 0}\n"
     ]
    },
    {
     "data": {
      "text/plain": [
       "True"
      ]
     },
     "execution_count": 158,
     "metadata": {},
     "output_type": "execute_result"
    }
   ],
   "source": [
    "t = \"olle\"\n",
    "s = \"olel\"\n",
    "anagram(t,s)"
   ]
  },
  {
   "cell_type": "code",
   "execution_count": 145,
   "metadata": {},
   "outputs": [],
   "source": [
    "dicten = {}"
   ]
  },
  {
   "cell_type": "code",
   "execution_count": 146,
   "metadata": {},
   "outputs": [
    {
     "data": {
      "text/plain": [
       "'Olle'"
      ]
     },
     "execution_count": 146,
     "metadata": {},
     "output_type": "execute_result"
    }
   ],
   "source": [
    "t"
   ]
  },
  {
   "cell_type": "code",
   "execution_count": 148,
   "metadata": {},
   "outputs": [],
   "source": [
    "dicten[t] = 1"
   ]
  },
  {
   "cell_type": "code",
   "execution_count": 151,
   "metadata": {},
   "outputs": [],
   "source": [
    "dicten[t[0]] = 2"
   ]
  },
  {
   "cell_type": "code",
   "execution_count": 152,
   "metadata": {},
   "outputs": [
    {
     "data": {
      "text/plain": [
       "{'olle': 1, 'o': 2}"
      ]
     },
     "execution_count": 152,
     "metadata": {},
     "output_type": "execute_result"
    }
   ],
   "source": [
    "dicten"
   ]
  },
  {
   "cell_type": "code",
   "execution_count": 155,
   "metadata": {},
   "outputs": [
    {
     "data": {
      "text/plain": [
       "0"
      ]
     },
     "execution_count": 155,
     "metadata": {},
     "output_type": "execute_result"
    }
   ],
   "source": [
    "dicten.get(\"bob\", 0)"
   ]
  },
  {
   "cell_type": "code",
   "execution_count": 156,
   "metadata": {},
   "outputs": [
    {
     "data": {
      "text/plain": [
       "{'olle': 1, 'o': 2}"
      ]
     },
     "execution_count": 156,
     "metadata": {},
     "output_type": "execute_result"
    }
   ],
   "source": [
    "dicten"
   ]
  },
  {
   "cell_type": "markdown",
   "metadata": {},
   "source": []
  },
  {
   "cell_type": "markdown",
   "metadata": {},
   "source": [
    "# Check duplicate values"
   ]
  },
  {
   "cell_type": "code",
   "execution_count": 175,
   "metadata": {},
   "outputs": [],
   "source": [
    "def hasDuplicate(nums: List[int]) -> bool:\n",
    "    dicten = {}\n",
    "\n",
    "    # store how many times each value occurs\n",
    "\n",
    "    for i in nums:\n",
    "        if dicten.get(i, 0) < 1:\n",
    "            dicten[i] = dicten.get(i, 0) + 1\n",
    "    return dicten"
   ]
  },
  {
   "cell_type": "code",
   "execution_count": 176,
   "metadata": {},
   "outputs": [
    {
     "data": {
      "text/plain": [
       "{1: 1, 2: 1, 3: 1}"
      ]
     },
     "execution_count": 176,
     "metadata": {},
     "output_type": "execute_result"
    }
   ],
   "source": [
    "nums = [1, 2, 3, 3]\n",
    "hasDuplicate(nums)"
   ]
  },
  {
   "cell_type": "code",
   "execution_count": 174,
   "metadata": {},
   "outputs": [
    {
     "data": {
      "text/plain": [
       "False"
      ]
     },
     "execution_count": 174,
     "metadata": {},
     "output_type": "execute_result"
    }
   ],
   "source": [
    "nums = [1, 2, 3, 4]\n",
    "hasDuplicate(nums)"
   ]
  },
  {
   "cell_type": "code",
   "execution_count": null,
   "metadata": {},
   "outputs": [],
   "source": []
  },
  {
   "cell_type": "code",
   "execution_count": 1,
   "metadata": {},
   "outputs": [],
   "source": [
    "listan = [1,2,3,1,2,1,4]"
   ]
  },
  {
   "cell_type": "code",
   "execution_count": 5,
   "metadata": {},
   "outputs": [
    {
     "name": "stdout",
     "output_type": "stream",
     "text": [
      "{1: 3, 2: 2, 3: 1, 4: 1}\n"
     ]
    }
   ],
   "source": [
    "# I want to count and store values in a dict\n",
    "# and just return the dict:\n",
    "\n",
    "dicten = {}\n",
    "\n",
    "for i in listan:\n",
    "    if i in dicten:\n",
    "        dicten[i] += 1\n",
    "    else:\n",
    "        dicten[i] = 1\n",
    "\n",
    "print(dicten)"
   ]
  },
  {
   "cell_type": "code",
   "execution_count": null,
   "metadata": {},
   "outputs": [],
   "source": [
    "# I want to count and store values in a dict\n",
    "# and find if it has duplicates:\n",
    "\n"
   ]
  }
 ],
 "metadata": {
  "kernelspec": {
   "display_name": "lmx",
   "language": "python",
   "name": "python3"
  },
  "language_info": {
   "codemirror_mode": {
    "name": "ipython",
    "version": 3
   },
   "file_extension": ".py",
   "mimetype": "text/x-python",
   "name": "python",
   "nbconvert_exporter": "python",
   "pygments_lexer": "ipython3",
   "version": "3.11.7"
  }
 },
 "nbformat": 4,
 "nbformat_minor": 2
}
